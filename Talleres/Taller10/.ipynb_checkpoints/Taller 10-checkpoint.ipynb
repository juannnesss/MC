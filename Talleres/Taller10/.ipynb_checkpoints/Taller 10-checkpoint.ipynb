{
 "cells": [
  {
   "cell_type": "code",
   "execution_count": 1,
   "metadata": {
    "collapsed": true
   },
   "outputs": [],
   "source": [
    "import numpy as np\n",
    "import matplotlib.pyplot as plt\n",
    "%matplotlib inline"
   ]
  },
  {
   "cell_type": "code",
   "execution_count": 39,
   "metadata": {
    "collapsed": true
   },
   "outputs": [],
   "source": [
    "N=20\n",
    "lattice=np.ones((N,N,N))\n",
    "T=10.\n",
    "beta=1./T\n",
    "def energiaTotal():\n",
    "    global lattice\n",
    "    return -sum(sum(sum(lattice*(np.roll(lattice,1,axis=1)+\\\n",
    "                             np.roll(lattice,-1,axis=1)+\\\n",
    "                             np.roll(lattice,1,axis=0)+\\\n",
    "                             np.roll(lattice,-1,axis=0)+\\\n",
    "                             np.roll(lattice,1,axis=2)+\\\n",
    "                             np.roll(lattice,-1,axis=2)\n",
    "                            ))))\n",
    "def block_energy(i,j,k):\n",
    "    global lattice\n",
    "    global N\n",
    "    return -(lattice[i,j,k]*(lattice[(i-1)%N,j,k]+\\\n",
    "                                  lattice[(i+1)%N,j,k]+\\\n",
    "                                  lattice[i,(j+1)%N,k]+\\\n",
    "                                  lattice[i,(j-1)%N,k]+\\\n",
    "                                  lattice[i,j,(k+1)%N]+\\\n",
    "                                  lattice[i,j,(k-1)%N]))\n",
    "def flipone():\n",
    "    global lattice\n",
    "    global beta\n",
    "    global N\n",
    "    # Pick a random site\n",
    "    nx, ny, nz= np.random.randint(0,N),np.random.randint(0,N),np.random.randint(0,N)\n",
    "    # Calculate current energy of site and neighbors\n",
    "    en_i=block_energy(nx,ny,nz)\n",
    "    # If it were flipped\n",
    "    en_f=-en_i\n",
    "    if en_f<en_i: # This could be simplified\n",
    "        lattice[nx,ny,nz]*=-1\n",
    "    elif np.random.random()<min(1,np.exp(-beta*(en_f-en_i))):\n",
    "        lattice[nx,ny,nz]*=-1\n",
    "\n",
    "def magnetization():\n",
    "    global lattice\n",
    "    global N\n",
    "    return sum(sum(sum(lattice)))/N**3"
   ]
  },
  {
   "cell_type": "code",
   "execution_count": 40,
   "metadata": {
    "collapsed": false
   },
   "outputs": [
    {
     "name": "stdout",
     "output_type": "stream",
     "text": [
      "The slowest run took 7.93 times longer than the fastest. This could mean that an intermediate result is being cached \n",
      "100000 loops, best of 3: 9.83 µs per loop\n"
     ]
    }
   ],
   "source": [
    "%timeit flipone()"
   ]
  },
  {
   "cell_type": "code",
   "execution_count": 41,
   "metadata": {
    "collapsed": false
   },
   "outputs": [
    {
     "data": {
      "text/plain": [
       "-0.0057499999999999999"
      ]
     },
     "execution_count": 41,
     "metadata": {},
     "output_type": "execute_result"
    }
   ],
   "source": [
    "magnetization()"
   ]
  },
  {
   "cell_type": "code",
   "execution_count": 45,
   "metadata": {
    "collapsed": false,
    "scrolled": true
   },
   "outputs": [
    {
     "name": "stdout",
     "output_type": "stream",
     "text": [
      "0.1 0.2 0.3 0.4 0.5 0.6 0.7 0.8 0.9 1.0 1.1 1.2 1.3 1.4 1.5 1.6 1.7 1.8 1.9 2.0 2.1 2.2 2.3 2.4 2.5 2.6 2.7 2.8 2.9 3.0 3.1 3.2 3.3 3.4 3.5 3.6 3.7 3.8 3.9 4.0 4.1 4.2 4.3 4.4 4.5 4.6 4.7 4.8 4.9 5.0 5.1 5.2 5.3 5.4 5.5 5.6 5.7 5.8 5.9 6.0 6.1 6.2 6.3 6.4 6.5 6.6 6.7 6.8 6.9 7.0 7.1 7.2 7.3 7.4 7.5 7.6 7.7 7.8 7.9 8.0\n"
     ]
    }
   ],
   "source": [
    "magnetizaciones=[]\n",
    "lattice=np.ones((N,N,N))\n",
    "numIter=10**6\n",
    "for temp in np.linspace(0.1,8,80):\n",
    "    print temp,\n",
    "    T=temp\n",
    "    beta=1./T\n",
    "    mag=[]\n",
    "    for i in range(numIter):\n",
    "        flipone()\n",
    "        if i>numIter-10:\n",
    "            mag.append(magnetization())\n",
    "    magnetizaciones.append([T,np.mean(mag)])\n",
    "magnetizaciones=np.array(magnetizaciones)"
   ]
  },
  {
   "cell_type": "code",
   "execution_count": 47,
   "metadata": {
    "collapsed": false
   },
   "outputs": [
    {
     "data": {
      "image/png": "[encoded data removed]",
      "text/plain": [
       "<matplotlib.figure.Figure at 0x7f5a3482f410>"
      ]
     },
     "metadata": {},
     "output_type": "display_data"
    }
   ],
   "source": [
    "plt.figure(figsize=(10,6))\n",
    "plt.plot(magnetizaciones[:,0],magnetizaciones[:,1],\"o-\")\n",
    "plt.xlabel(\"T\")\n",
    "plt.ylabel(\"M\")\n",
    "plt.title(u\"Magnetización en el Modelo de Ising 2D\") \n",
    "plt.ylim(-0.2,1.1)\n",
    "plt.axvline(4.51, color='red')\n",
    "plt.show()"
   ]
  },
  {
   "cell_type": "code",
   "execution_count": null,
   "metadata": {
    "collapsed": true
   },
   "outputs": [],
   "source": []
  }
 ],
 "metadata": {
  "kernelspec": {
   "display_name": "Python 2",
   "language": "python",
   "name": "python2"
  },
  "language_info": {
   "codemirror_mode": {
    "name": "ipython",
    "version": 2
   },
   "file_extension": ".py",
   "mimetype": "text/x-python",
   "name": "python",
   "nbconvert_exporter": "python",
   "pygments_lexer": "ipython2",
   "version": "2.7.10"
  }
 },
 "nbformat": 4,
 "nbformat_minor": 0
}
