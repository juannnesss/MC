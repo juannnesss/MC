{
 "cells": [
  {
   "cell_type": "code",
   "execution_count": 1,
   "metadata": {
    "collapsed": true
   },
   "outputs": [],
   "source": [
    "import numpy as np\n",
    "import matplotlib.pyplot as plt\n",
    "%matplotlib inline"
   ]
  },
  {
   "cell_type": "code",
   "execution_count": 2,
   "metadata": {
    "collapsed": true
   },
   "outputs": [],
   "source": [
    "N=20\n",
    "lat=np.ones((N,N,N))\n",
    "T=10.\n",
    "beta=1./T\n",
    "def magnetizacion():\n",
    "    global lat\n",
    "    global N\n",
    "    return sum(sum(sum(lat)))/N**3\n",
    "def energiaB(i,j,k):\n",
    "    global lat\n",
    "    global N\n",
    "    return -(lat[i,j,k]*(lat[(i-1)%N,j,k]+lat[(i+1)%N,j,k]+lat[i,(j+1)%N,k]+lat[i,(j-1)%N,k]+lat[i,j,(k+1)%N]+lat[i,j,(k-1)%N]))\n",
    "def flip1():\n",
    "    global lat\n",
    "    global beta\n",
    "    global N\n",
    "    # Pick a random site\n",
    "    nx, ny, nz= np.random.randint(0,N),np.random.randint(0,N),np.random.randint(0,N)\n",
    "    # Calculate current energy of site and neighbors\n",
    "    en_i=energiaB(nx,ny,nz)\n",
    "    # If it were flipped\n",
    "    en_f=-en_i\n",
    "    if en_f<en_i: # This could be simplified\n",
    "        lat[nx,ny,nz]*=-1\n",
    "    elif np.random.random()<min(1,np.exp(-beta*(en_f-en_i))):\n",
    "        lat[nx,ny,nz]*=-1\n",
    "def energiaTotal():\n",
    "    global lat\n",
    "    return -sum(sum(sum(lat*(np.roll(lat,1,axis=1)+np.roll(lat,-1,axis=1)+np.roll(lat,1,axis=0)+np.roll(lat,-1,axis=0)+np.roll(lat,1,axis=2)+np.roll(lat,-1,axis=2)))))"
   ]
  },
  {
   "cell_type": "code",
   "execution_count": 3,
   "metadata": {
    "collapsed": false
   },
   "outputs": [
    {
     "name": "stdout",
     "output_type": "stream",
     "text": [
      "The slowest run took 12.70 times longer than the fastest. This could mean that an intermediate result is being cached \n",
      "100000 loops, best of 3: 6.54 µs per loop\n"
     ]
    }
   ],
   "source": [
    "%timeit flip1()"
   ]
  },
  {
   "cell_type": "code",
   "execution_count": 4,
   "metadata": {
    "collapsed": false
   },
   "outputs": [
    {
     "data": {
      "text/plain": [
       "0.024250000000000001"
      ]
     },
     "execution_count": 4,
     "metadata": {},
     "output_type": "execute_result"
    }
   ],
   "source": [
    "magnetizacion()"
   ]
  },
  {
   "cell_type": "code",
   "execution_count": 5,
   "metadata": {
    "collapsed": false,
    "scrolled": true
   },
   "outputs": [],
   "source": [
    "lat=np.ones((N,N,N))\n",
    "itera=10**6\n",
    "magn=[]\n",
    "for temp in np.linspace(0.1,8,80):\n",
    "    T=temp\n",
    "    beta=1./T\n",
    "    mag=[]\n",
    "    for i in range(itera):\n",
    "        flip1()\n",
    "        if i>itera-10:\n",
    "            mag.append(magnetizacion())\n",
    "    magn.append([T,np.mean(mag)])\n",
    "magn=np.array(magn)"
   ]
  },
  {
   "cell_type": "code",
   "execution_count": 6,
   "metadata": {
    "collapsed": false
   },
   "outputs": [
    {
     "data": {
      "image/png": "[encoded data removed]",
      "text/plain": [
       "<matplotlib.figure.Figure at 0x105440390>"
      ]
     },
     "metadata": {},
     "output_type": "display_data"
    }
   ],
   "source": [
    "plt.figure(figsize=(10,6))\n",
    "plt.plot(magn[:,0],magn[:,1],\"o-\")\n",
    "plt.xlabel(\"T\")\n",
    "plt.ylabel(\"M\")\n",
    "plt.title(u\"Magnetización en el Modelo de Ising 2D\") \n",
    "plt.ylim(-0.2,1.1)\n",
    "plt.axvline(4.51, color='red')\n",
    "plt.show()"
   ]
  },
  {
   "cell_type": "code",
   "execution_count": null,
   "metadata": {
    "collapsed": true
   },
   "outputs": [],
   "source": []
  }
 ],
 "metadata": {
  "kernelspec": {
   "display_name": "Python 2",
   "language": "python",
   "name": "python2"
  },
  "language_info": {
   "codemirror_mode": {
    "name": "ipython",
    "version": 2
   },
   "file_extension": ".py",
   "mimetype": "text/x-python",
   "name": "python",
   "nbconvert_exporter": "python",
   "pygments_lexer": "ipython2",
   "version": "2.7.10"
  }
 },
 "nbformat": 4,
 "nbformat_minor": 0
}
